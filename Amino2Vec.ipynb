{
 "cells": [
  {
   "cell_type": "code",
   "execution_count": 1,
   "metadata": {},
   "outputs": [],
   "source": [
    "import gensim"
   ]
  },
  {
   "cell_type": "code",
   "execution_count": 2,
   "metadata": {},
   "outputs": [],
   "source": [
    "file = open(\"./pdb_seqres.txt\",\"r\")\n",
    "sequences = file.readlines()"
   ]
  },
  {
   "cell_type": "code",
   "execution_count": 3,
   "metadata": {},
   "outputs": [],
   "source": [
    "cleaned = []\n",
    "for i in sequences:\n",
    "    if i[0] == \">\":\n",
    "        continue\n",
    "    else:\n",
    "        cleaned.append(list(i[0:-1]))"
   ]
  },
  {
   "cell_type": "code",
   "execution_count": 4,
   "metadata": {},
   "outputs": [
    {
     "name": "stdout",
     "output_type": "stream",
     "text": [
      "['M', 'V', 'L', 'S', 'E', 'G', 'E', 'W', 'Q', 'L', 'V', 'L', 'H', 'V', 'W', 'A', 'K', 'V', 'E', 'A', 'D', 'V', 'A', 'G', 'H', 'G', 'Q', 'D', 'I', 'L', 'I', 'R', 'L', 'F', 'K', 'S', 'H', 'P', 'E', 'T', 'L', 'E', 'K', 'F', 'D', 'R', 'V', 'K', 'H', 'L', 'K', 'T', 'E', 'A', 'E', 'M', 'K', 'A', 'S', 'E', 'D', 'L', 'K', 'K', 'H', 'G', 'V', 'T', 'V', 'L', 'T', 'A', 'L', 'G', 'A', 'I', 'L', 'K', 'K', 'K', 'G', 'H', 'H', 'E', 'A', 'E', 'L', 'K', 'P', 'L', 'A', 'Q', 'S', 'H', 'A', 'T', 'K', 'H', 'K', 'I', 'P', 'I', 'K', 'Y', 'L', 'E', 'F', 'I', 'S', 'E', 'A', 'I', 'I', 'H', 'V', 'L', 'H', 'S', 'R', 'H', 'P', 'G', 'N', 'F', 'G', 'A', 'D', 'A', 'Q', 'G', 'A', 'M', 'N', 'K', 'A', 'L', 'E', 'L', 'F', 'R', 'K', 'D', 'I', 'A', 'A', 'K', 'Y', 'K', 'E', 'L', 'G', 'Y', 'Q', 'G']\n",
      "MVLSEGEWQLVLHVWAKVEADVAGHGQDILIRLFKSHPETLEKFDRVKHLKTEAEMKASEDLKKHGVTVLTALGAILKKKGHHEAELKPLAQSHATKHKIPIKYLEFISEAIIHVLHSRHPGNFGADAQGAMNKALELFRKDIAAKYKELGYQG\n"
     ]
    }
   ],
   "source": [
    "print (cleaned[0])\n",
    "print (sequences[1][0:-1])"
   ]
  },
  {
   "cell_type": "code",
   "execution_count": 5,
   "metadata": {},
   "outputs": [],
   "source": [
    "from gensim.models import Word2Vec"
   ]
  },
  {
   "cell_type": "code",
   "execution_count": 49,
   "metadata": {},
   "outputs": [
    {
     "data": {
      "text/plain": [
       "(113875927, 730043646)"
      ]
     },
     "execution_count": 49,
     "metadata": {},
     "output_type": "execute_result"
    }
   ],
   "source": [
    "model = Word2Vec(cleaned,size=23, workers=8,min_count = 999999,window = 5)\n",
    "model.train(cleaned,total_examples=model.corpus_count,epochs=6)"
   ]
  },
  {
   "cell_type": "code",
   "execution_count": 50,
   "metadata": {},
   "outputs": [],
   "source": [
    "from gensim.corpora import Dictionary\n",
    "dictionary = Dictionary(cleaned)"
   ]
  },
  {
   "cell_type": "code",
   "execution_count": 51,
   "metadata": {},
   "outputs": [
    {
     "name": "stdout",
     "output_type": "stream",
     "text": [
      "A Vocab(count:10504710, index:0, sample_int:508497425)\n",
      "D Vocab(count:6465999, index:9, sample_int:665327541)\n",
      "E Vocab(count:7651122, index:4, sample_int:605710921)\n",
      "F Vocab(count:4497232, index:13, sample_int:816828368)\n",
      "G Vocab(count:10217878, index:2, sample_int:516279561)\n",
      "H Vocab(count:3076513, index:16, sample_int:1016589863)\n",
      "I Vocab(count:6482689, index:8, sample_int:664367847)\n",
      "K Vocab(count:6956139, index:6, sample_int:638698704)\n",
      "L Vocab(count:10430848, index:1, sample_int:510468872)\n",
      "M Vocab(count:2705523, index:18, sample_int:1095921691)\n",
      "N Vocab(count:4862267, index:12, sample_int:781344661)\n",
      "P Vocab(count:5405829, index:11, sample_int:735826459)\n",
      "Q Vocab(count:4386356, index:14, sample_int:828547114)\n",
      "R Vocab(count:6166093, index:10, sample_int:683279683)\n",
      "S Vocab(count:7299133, index:5, sample_int:621789305)\n",
      "T Vocab(count:6564197, index:7, sample_int:659737477)\n",
      "V Vocab(count:8164066, index:3, sample_int:584289290)\n",
      "W Vocab(count:1531779, index:19, sample_int:1539899861)\n",
      "Y Vocab(count:3963070, index:15, sample_int:878115370)\n",
      "C Vocab(count:2834752, index:17, sample_int:1066352756)\n"
     ]
    },
    {
     "ename": "KeyError",
     "evalue": "'X'",
     "output_type": "error",
     "traceback": [
      "\u001b[0;31m---------------------------------------------------------------------------\u001b[0m",
      "\u001b[0;31mKeyError\u001b[0m                                  Traceback (most recent call last)",
      "\u001b[0;32m<ipython-input-51-c740b6ff45e2>\u001b[0m in \u001b[0;36m<module>\u001b[0;34m\u001b[0m\n\u001b[1;32m      2\u001b[0m \u001b[0mdct\u001b[0m \u001b[0;34m=\u001b[0m \u001b[0mlist\u001b[0m\u001b[0;34m(\u001b[0m\u001b[0mdictionary\u001b[0m\u001b[0;34m.\u001b[0m\u001b[0mitems\u001b[0m\u001b[0;34m(\u001b[0m\u001b[0;34m)\u001b[0m\u001b[0;34m)\u001b[0m\u001b[0;34m\u001b[0m\u001b[0;34m\u001b[0m\u001b[0m\n\u001b[1;32m      3\u001b[0m \u001b[0;32mfor\u001b[0m \u001b[0mi\u001b[0m \u001b[0;32min\u001b[0m \u001b[0mdct\u001b[0m\u001b[0;34m:\u001b[0m\u001b[0;34m\u001b[0m\u001b[0;34m\u001b[0m\u001b[0m\n\u001b[0;32m----> 4\u001b[0;31m     \u001b[0mprint\u001b[0m \u001b[0;34m(\u001b[0m\u001b[0mi\u001b[0m\u001b[0;34m[\u001b[0m\u001b[0;36m1\u001b[0m\u001b[0;34m]\u001b[0m\u001b[0;34m,\u001b[0m\u001b[0mmodel\u001b[0m\u001b[0;34m.\u001b[0m\u001b[0mwv\u001b[0m\u001b[0;34m.\u001b[0m\u001b[0mvocab\u001b[0m\u001b[0;34m[\u001b[0m\u001b[0mi\u001b[0m\u001b[0;34m[\u001b[0m\u001b[0;36m1\u001b[0m\u001b[0;34m]\u001b[0m\u001b[0;34m]\u001b[0m\u001b[0;34m)\u001b[0m\u001b[0;34m\u001b[0m\u001b[0;34m\u001b[0m\u001b[0m\n\u001b[0m\u001b[1;32m      5\u001b[0m     \u001b[0mvocab\u001b[0m\u001b[0;34m.\u001b[0m\u001b[0mappend\u001b[0m\u001b[0;34m(\u001b[0m\u001b[0mi\u001b[0m\u001b[0;34m[\u001b[0m\u001b[0;36m1\u001b[0m\u001b[0;34m]\u001b[0m\u001b[0;34m)\u001b[0m\u001b[0;34m\u001b[0m\u001b[0;34m\u001b[0m\u001b[0m\n",
      "\u001b[0;31mKeyError\u001b[0m: 'X'"
     ]
    }
   ],
   "source": [
    "vocab = []\n",
    "dct = list(dictionary.items())\n",
    "for i in dct:\n",
    "    print (i[1],model.wv.vocab[i[1]])\n",
    "    vocab.append(i[1])"
   ]
  },
  {
   "cell_type": "code",
   "execution_count": null,
   "metadata": {},
   "outputs": [],
   "source": [
    "X = []\n",
    "# sample = open(\"test.csv\",\"w\")/\n",
    "# sample.write(\"residual,x,y,z\\n\")\n",
    "for i in vocab:\n",
    "    rep = (model.wv[i])\n",
    "    X.append(rep)\n",
    "#     sample.write(i+\",\"+str(rep[0])+\",\"+str(rep[1])+\",\"+str(rep[2])+\"\\n\")\n",
    "# sample.close()"
   ]
  },
  {
   "cell_type": "code",
   "execution_count": 47,
   "metadata": {},
   "outputs": [],
   "source": [
    "\n",
    "import numpy as np\n",
    "from sklearn.cluster import *\n",
    "X = np.asarray(X)\n",
    "kmeans = KMeans(n_clusters=10).fit(X)"
   ]
  },
  {
   "cell_type": "code",
   "execution_count": 48,
   "metadata": {},
   "outputs": [
    {
     "name": "stdout",
     "output_type": "stream",
     "text": [
      "6 A\n",
      "1 D\n",
      "9 E\n",
      "8 F\n",
      "3 G\n",
      "0 H\n",
      "7 I\n",
      "9 K\n",
      "7 L\n",
      "7 M\n",
      "1 N\n",
      "8 P\n",
      "7 Q\n",
      "2 R\n",
      "5 S\n",
      "5 T\n",
      "7 V\n",
      "8 W\n",
      "8 Y\n",
      "4 C\n"
     ]
    }
   ],
   "source": [
    "# for i in vocab:\n",
    "#     rep = (model.wv[i])\n",
    "#     print (i,kmeans.fit_predict([rep]))\n",
    "Y = list(kmeans.fit_predict(X))\n",
    "for i in range(len(Y)):\n",
    "    print (Y[i],vocab[i])"
   ]
  },
  {
   "cell_type": "code",
   "execution_count": 57,
   "metadata": {},
   "outputs": [],
   "source": [
    "# del kmeans\n",
    "from k_means import *"
   ]
  },
  {
   "cell_type": "code",
   "execution_count": null,
   "metadata": {},
   "outputs": [],
   "source": []
  },
  {
   "cell_type": "code",
   "execution_count": null,
   "metadata": {},
   "outputs": [],
   "source": []
  }
 ],
 "metadata": {
  "kernelspec": {
   "display_name": "Python 3",
   "language": "python",
   "name": "python3"
  },
  "language_info": {
   "codemirror_mode": {
    "name": "ipython",
    "version": 3
   },
   "file_extension": ".py",
   "mimetype": "text/x-python",
   "name": "python",
   "nbconvert_exporter": "python",
   "pygments_lexer": "ipython3",
   "version": "3.6.7"
  }
 },
 "nbformat": 4,
 "nbformat_minor": 2
}
