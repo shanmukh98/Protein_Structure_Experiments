{
 "cells": [
  {
   "cell_type": "code",
   "execution_count": 1,
   "metadata": {
    "scrolled": true
   },
   "outputs": [],
   "source": [
    "import gensim\n",
    "from gensim.corpora import Dictionary\n",
    "from gensim.models import Word2Vec\n",
    "from tqdm import tqdm\n",
    "from sklearn.decomposition import PCA"
   ]
  },
  {
   "cell_type": "code",
   "execution_count": 2,
   "metadata": {},
   "outputs": [
    {
     "name": "stderr",
     "output_type": "stream",
     "text": [
      "100%|██████████| 482912/482912 [00:06<00:00, 73441.38it/s]\n"
     ]
    }
   ],
   "source": [
    "file = open(\"../data/pdb.txt\",\"r\")\n",
    "sequences = file.readlines()\n",
    "file.close()\n",
    "\n",
    "len(sequences)\n",
    "# print (sequences[0][:-1])\n",
    "cleaned = []\n",
    "valid = \"GAVLIMFWPSTCYNQDEKRH\"\n",
    "for i in tqdm(sequences):\n",
    "    flag = 0\n",
    "    for j in set(list(i[:-1])):\n",
    "        if j in valid:\n",
    "            continue\n",
    "        else:\n",
    "            flag = 1\n",
    "    if flag == 0:\n",
    "        cleaned.append(list(i[:-1]))\n",
    "# cleaned = [list(i[:-1]) for i in sequences]"
   ]
  },
  {
   "cell_type": "code",
   "execution_count": 3,
   "metadata": {},
   "outputs": [
    {
     "name": "stdout",
     "output_type": "stream",
     "text": [
      "460455\n",
      "482912\n"
     ]
    }
   ],
   "source": [
    "print (len(cleaned))\n",
    "print (len(sequences))"
   ]
  },
  {
   "cell_type": "code",
   "execution_count": 4,
   "metadata": {},
   "outputs": [
    {
     "data": {
      "text/plain": [
       "(18121013, 114838203)"
      ]
     },
     "execution_count": 4,
     "metadata": {},
     "output_type": "execute_result"
    }
   ],
   "source": [
    "model = Word2Vec(cleaned,size=10, workers=8,window=3 )\n",
    "model.train(cleaned,total_examples=model.corpus_count,epochs=1)"
   ]
  },
  {
   "cell_type": "code",
   "execution_count": 5,
   "metadata": {},
   "outputs": [],
   "source": [
    "dictionary = Dictionary(cleaned)"
   ]
  },
  {
   "cell_type": "code",
   "execution_count": 6,
   "metadata": {},
   "outputs": [
    {
     "name": "stdout",
     "output_type": "stream",
     "text": [
      "A Vocab(count:9240847, index:1, sample_int:532166889)\n",
      "D Vocab(count:6390582, index:9, sample_int:652928734)\n",
      "E Vocab(count:7540549, index:4, sample_int:595441237)\n",
      "F Vocab(count:4439214, index:13, sample_int:801902998)\n",
      "G Vocab(count:8554245, index:2, sample_int:555295147)\n",
      "H Vocab(count:3040676, index:16, sample_int:996885539)\n",
      "I Vocab(count:6409919, index:8, sample_int:651826807)\n",
      "K Vocab(count:6872829, index:6, sample_int:626946557)\n",
      "L Vocab(count:10288045, index:0, sample_int:501712582)\n",
      "M Vocab(count:2671724, index:17, sample_int:1075055087)\n",
      "N Vocab(count:4807824, index:12, sample_int:766375315)\n",
      "P Vocab(count:5338883, index:11, sample_int:722292863)\n",
      "Q Vocab(count:4333448, index:14, sample_int:812994043)\n",
      "R Vocab(count:6087213, index:10, sample_int:670947557)\n",
      "S Vocab(count:7214476, index:5, sample_int:610243129)\n",
      "T Vocab(count:6491037, index:7, sample_int:647261796)\n",
      "V Vocab(count:8069200, index:3, sample_int:573499426)\n",
      "W Vocab(count:1511430, index:19, sample_int:1510214596)\n",
      "Y Vocab(count:3919012, index:15, sample_int:861070439)\n",
      "C Vocab(count:1617050, index:18, sample_int:1449583417)\n"
     ]
    }
   ],
   "source": [
    "vocab = []\n",
    "dct = list(dictionary.items())\n",
    "for i in dct:\n",
    "    print (i[1],model.wv.vocab[i[1]])\n",
    "    vocab.append(i[1])"
   ]
  },
  {
   "cell_type": "code",
   "execution_count": 7,
   "metadata": {},
   "outputs": [],
   "source": [
    "X = []\n",
    "for i in vocab:\n",
    "    rep = (model.wv[i])\n",
    "    X.append(rep)"
   ]
  },
  {
   "cell_type": "code",
   "execution_count": 10,
   "metadata": {},
   "outputs": [
    {
     "data": {
      "text/plain": [
       "PCA(copy=True, iterated_power='auto', n_components=2, random_state=None,\n",
       "  svd_solver='auto', tol=0.0, whiten=True)"
      ]
     },
     "execution_count": 10,
     "metadata": {},
     "output_type": "execute_result"
    }
   ],
   "source": [
    "pca = PCA(2,whiten=True)\n",
    "pca.fit(X)"
   ]
  },
  {
   "cell_type": "code",
   "execution_count": 11,
   "metadata": {},
   "outputs": [],
   "source": [
    "X_2 = pca.fit_transform(X)"
   ]
  },
  {
   "cell_type": "code",
   "execution_count": 12,
   "metadata": {},
   "outputs": [
    {
     "name": "stdout",
     "output_type": "stream",
     "text": [
      "A [0.8703128 2.7373152]\n",
      "D [-0.5177775  -0.15562257]\n",
      "E [-1.3806976  0.6044021]\n",
      "F [-0.09422216 -0.86407596]\n",
      "G [1.4839586 1.1362062]\n",
      "H [-0.16860254 -0.575717  ]\n",
      "I [-0.6469204  -0.01181968]\n",
      "K [-1.4173309   0.17544791]\n",
      "L [-0.7631536  0.4421408]\n",
      "M [-0.4622245  0.3521613]\n",
      "N [-0.42080826 -1.5185614 ]\n",
      "P [ 0.22727421 -0.19445013]\n",
      "Q [-0.63360935 -0.13684349]\n",
      "R [-0.5815246   0.99740756]\n",
      "S [ 0.31518075 -0.6194375 ]\n",
      "T [1.4180949  0.29061973]\n",
      "V [-0.15524396  0.7765215 ]\n",
      "W [ 0.33856004 -1.2029009 ]\n",
      "Y [-0.12639526 -1.2387623 ]\n",
      "C [ 2.7151303 -0.9940309]\n"
     ]
    }
   ],
   "source": [
    "for i in range(len(X_2)):\n",
    "    print(vocab[i],X_2[i])"
   ]
  },
  {
   "cell_type": "code",
   "execution_count": 13,
   "metadata": {},
   "outputs": [
    {
     "data": {
      "image/png": "[encoded data removed]",
      "text/plain": [
       "<Figure size 1080x720 with 1 Axes>"
      ]
     },
     "metadata": {},
     "output_type": "display_data"
    }
   ],
   "source": [
    "import matplotlib.pyplot as plt\n",
    "\n",
    "%matplotlib inline\n",
    "# plt.style.use('seaborn-whitegrid')\n",
    "\n",
    "cluster = {\"G\":\"r\",\n",
    "          \"A\":\"r\",\n",
    "          \"V\":\"r\",\n",
    "          \"L\":\"r\",\n",
    "          \"I\":\"r\",\n",
    "          \"M\":\"r\",\n",
    "          \"F\":\"r\",\n",
    "          \"W\":\"r\",\n",
    "          \"P\":\"r\",\n",
    "          \"S\":\"b\",\n",
    "          \"T\":\"b\",\n",
    "          \"C\":\"b\",\n",
    "          \"Y\":\"b\",\n",
    "          \"N\":\"b\",\n",
    "          \"Q\":\"b\",\n",
    "          \"D\":\"b\",\n",
    "          \"E\":\"b\",\n",
    "          \"K\":\"b\",\n",
    "           \"R\":\"b\",\n",
    "           \"H\":\"b\",\n",
    "          }\n",
    "sign = {\"G\":\".\",\n",
    "          \"A\":\".\",\n",
    "          \"V\":\".\",\n",
    "          \"L\":\".\",\n",
    "          \"I\":\".\",\n",
    "          \"M\":\".\",\n",
    "          \"F\":\".\",\n",
    "          \"W\":\".\",\n",
    "          \"P\":\".\",\n",
    "          \"S\":\".\",\n",
    "          \"T\":\".\",\n",
    "          \"C\":\".\",\n",
    "          \"Y\":\".\",\n",
    "          \"N\":\".\",\n",
    "          \"Q\":\".\",\n",
    "          \"D\":\"*\",\n",
    "          \"E\":\"*\",\n",
    "          \"K\":\"+\",\n",
    "           \"R\":\"+\",\n",
    "           \"H\":\"+\",\n",
    "          }\n",
    "label = {\"G\":\"hydrophobic\",\n",
    "          \"A\":\"hydrophobic\",\n",
    "          \"V\":\"hydrophobic\",\n",
    "          \"L\":\"hydrophobic\",\n",
    "          \"I\":\"hydrophobic\",\n",
    "          \"M\":\"hydrophobic\",\n",
    "          \"F\":\"hydrophobic\",\n",
    "          \"W\":\"hydrophobic\",\n",
    "          \"P\":\"hydrophobic\",\n",
    "          \"S\":\"hydrophilic\",\n",
    "          \"T\":\"hydrophilic\",\n",
    "          \"C\":\"hydrophilic\",\n",
    "          \"Y\":\"hydrophilic\",\n",
    "          \"N\":\"hydrophilic\",\n",
    "          \"Q\":\"hydrophilic\",\n",
    "          \"D\":\"negative hydrophilic\",\n",
    "          \"E\":\"negative hydrophilic\",\n",
    "          \"K\":\"positive hydrophilic\",\n",
    "           \"R\":\"positive hydrophilic\",\n",
    "           \"H\":\"positive hydrophilic\",\n",
    "          }\n",
    "fig=plt.figure( dpi= 180, facecolor='w', edgecolor='k')\n",
    "\n",
    "import matplotlib.lines as mlines\n",
    "\n",
    "blue_line = mlines.Line2D([], [], color='blue', marker='*',linestyle=\"None\",\n",
    "                           label='-ve hydrophilic')\n",
    "red_dot = mlines.Line2D([], [], color='red', marker='.',linestyle=\"None\",\n",
    "                           label='hydrophobic')\n",
    "blue_p = mlines.Line2D([], [], color='blue', marker='+',linestyle=\"None\",\n",
    "                           label='+ve hydrophilic')\n",
    "blue_dot = mlines.Line2D([], [], color='blue', marker='.',linestyle=\"None\",\n",
    "                           label='hydrophilic')\n",
    "plt.legend(handles=[blue_line,red_dot,blue_p,blue_dot])\n",
    "for i in range(len(X_2[:])):\n",
    "    plt.plot(X_2[i][0],X_2[i][1],sign[vocab[i]],color=cluster[vocab[i]],label = label[vocab[i]] )\n"
   ]
  },
  {
   "cell_type": "code",
   "execution_count": 14,
   "metadata": {},
   "outputs": [
    {
     "data": {
      "text/plain": [
       "20"
      ]
     },
     "execution_count": 14,
     "metadata": {},
     "output_type": "execute_result"
    }
   ],
   "source": [
    "len(X_2)"
   ]
  },
  {
   "cell_type": "code",
   "execution_count": null,
   "metadata": {},
   "outputs": [],
   "source": []
  }
 ],
 "metadata": {
  "kernelspec": {
   "display_name": "Python 3",
   "language": "python",
   "name": "python3"
  },
  "language_info": {
   "codemirror_mode": {
    "name": "ipython",
    "version": 3
   },
   "file_extension": ".py",
   "mimetype": "text/x-python",
   "name": "python",
   "nbconvert_exporter": "python",
   "pygments_lexer": "ipython3",
   "version": "3.6.7"
  }
 },
 "nbformat": 4,
 "nbformat_minor": 2
}
